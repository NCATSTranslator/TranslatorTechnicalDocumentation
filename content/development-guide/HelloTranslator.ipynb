{
 "cells": [
  {
   "cell_type": "code",
   "execution_count": 1,
   "id": "spatial-chrome",
   "metadata": {
    "pycharm": {
     "name": "#%%\n"
    }
   },
   "outputs": [],
   "source": [
    "import requests\n",
    "import json"
   ]
  },
  {
   "cell_type": "markdown",
   "id": "reasonable-nicholas",
   "metadata": {
    "pycharm": {
     "name": "#%% md\n"
    }
   },
   "source": [
    "TRAPI Documentation: https://github.com/NCATSTranslator/ReasonerAPI\n",
    "\n",
    "Most TRAPI documents contain a `message` key.  Within that `message` are a `query_graph` denoting the user query,\n",
    "a `knowledge_graph` consisting of the union of all nodes and edges that match the `query_graph` pattern, and a list of `results` that bind `query_graph` elements to `knowledge_graph` elements.\n",
    "\n",
    "The following message contains only a `query_graph`.  This query graph consists of 3 nodes connected together in a line.   Two of the nodes (`n00` and `n02`) have specified identifiers, while the middle node of the line does not.  Rather the middle node has a list of `categories` that are acceptable.\n",
    "\n",
    "This query asks \"Find me a Biological Process or Activity, or a Gene, or a Pathway that is related to both `PUBCHEM.COMPOUND:644073` (Buprenorphine) and `HP:0000217` (Drymouth)."
   ]
  },
  {
   "cell_type": "code",
   "execution_count": 2,
   "id": "pressing-genesis",
   "metadata": {
    "pycharm": {
     "name": "#%%\n"
    }
   },
   "outputs": [],
   "source": [
    "query={\n",
    "    \"message\": {\n",
    "      \"query_graph\": {\n",
    "        \"edges\": {\n",
    "          \"e00\": {\n",
    "            \"subject\": \"n00\",\n",
    "              \"object\": \"n01\",\n",
    "          \"predicates\":[\"biolink:entity_nega...\"]\n",
    "          },\n",
    "          \"e01\": {\n",
    "            \"subject\": \"n01\",\n",
    "              \"object\": \"n02\",\n",
    "          \"predicates\":[\"biolink:related_to\"]\n",
    "          }\n",
    "        },\n",
    "        \"nodes\": {\n",
    "          \"n00\": {\n",
    "            \"ids\": [\"PUBCHEM.COMPOUND:644073\"],\n",
    "            \"categories\": [\"biolink:ChemicalEntity\"]\n",
    "          },\n",
    "          \"n01\": {\n",
    "              \"categories\": [\"biolink:BiologicalProcessOrActivity\",\"biolink:Gene\",\"biolink:Pathway\"]\n",
    "          },\n",
    "          \"n02\": {\n",
    "            \"ids\": [\"HP:0000217\"],\n",
    "            \"categories\": [\"biolink:DiseaseOrPhenotypicFeature\"]\n",
    "          }\n",
    "        }\n",
    "      }\n",
    "    }\n",
    "  }\n"
   ]
  },
  {
   "cell_type": "markdown",
   "id": "figured-wesley",
   "metadata": {
    "pycharm": {
     "name": "#%% md\n"
    }
   },
   "source": [
    "This query can be sent to various components of Translator as needed.  The most comprehensive way to query translator is to post this query to the Automated Relay System (ARS)."
   ]
  },
  {
   "cell_type": "code",
   "execution_count": 3,
   "id": "greek-warrant",
   "metadata": {
    "pycharm": {
     "name": "#%%\n"
    }
   },
   "outputs": [],
   "source": [
    "ars_submit_url = \"https://ars-prod.transltr.io/ars/api/submit\"\n",
    "response = requests.post(ars_submit_url,json=query)"
   ]
  },
  {
   "cell_type": "code",
   "execution_count": 4,
   "id": "respective-participation",
   "metadata": {
    "pycharm": {
     "name": "#%%\n"
    }
   },
   "outputs": [
    {
     "name": "stdout",
     "output_type": "stream",
     "text": [
      "201\n"
     ]
    }
   ],
   "source": [
    "print(response.status_code)"
   ]
  },
  {
   "cell_type": "markdown",
   "id": "adjustable-cotton",
   "metadata": {
    "pycharm": {
     "name": "#%% md\n"
    }
   },
   "source": [
    "The ARS returned a 201 success code.  It also returned as part of the respone payload a key that we can use to monitor progress and look up results."
   ]
  },
  {
   "cell_type": "code",
   "execution_count": 5,
   "id": "median-america",
   "metadata": {
    "pycharm": {
     "name": "#%%\n"
    }
   },
   "outputs": [
    {
     "name": "stdout",
     "output_type": "stream",
     "text": [
      "99ca200b-6f74-4173-b874-2b1e5ed09a37\n"
     ]
    }
   ],
   "source": [
    "PK = response.json()['pk']\n",
    "print(PK)"
   ]
  },
  {
   "cell_type": "markdown",
   "id": "sitting-calculation",
   "metadata": {
    "pycharm": {
     "name": "#%% md\n"
    }
   },
   "source": [
    "The ARAX UI provides a convenient way to view results by PK:"
   ]
  },
  {
   "cell_type": "code",
   "execution_count": 6,
   "id": "specialized-province",
   "metadata": {
    "pycharm": {
     "name": "#%%\n"
    }
   },
   "outputs": [
    {
     "name": "stdout",
     "output_type": "stream",
     "text": [
      "https://arax.ncats.io/?source=ARS&id=99ca200b-6f74-4173-b874-2b1e5ed09a37\n"
     ]
    }
   ],
   "source": [
    "arax_url = f'https://arax.ncats.io/?source=ARS&id={PK}'\n",
    "print(arax_url)"
   ]
  },
  {
   "cell_type": "markdown",
   "id": "radio-buyer",
   "metadata": {
    "pycharm": {
     "name": "#%% md\n"
    }
   },
   "source": [
    "You will have noticed that the specified nodes `n00` and `n02` are defined in terms of identifiers, not names.  All nodes and edges in Translator queries and results are defined by CURIES (Compact URIs).  There are two tools in Translator to help navigate identifiers and queries.   \n",
    "\n",
    "The name-resolver: https://name-resolution-sri.renci.org/docs has a lookup function that can take a string and return potential identifiers.  Here, we look up the string \"alzheimer\""
   ]
  },
  {
   "cell_type": "code",
   "execution_count": 16,
   "id": "geographic-grove",
   "metadata": {
    "pycharm": {
     "name": "#%%\n"
    }
   },
   "outputs": [],
   "source": [
    "results = requests.post('https://name-resolution-sri.renci.org/lookup?string=alzheimer&offset=0&limit=10')"
   ]
  },
  {
   "cell_type": "code",
   "execution_count": 18,
   "id": "musical-strip",
   "metadata": {
    "pycharm": {
     "name": "#%%\n"
    }
   },
   "outputs": [
    {
     "name": "stdout",
     "output_type": "stream",
     "text": [
      "{\n",
      "    \"MONDO:0004975\": [\n",
      "        \"Alzheimer\",\n",
      "        \"Alzheimers\",\n",
      "        \"Alzheimer's\",\n",
      "        \"ALZHEIMER DIS\",\n",
      "        \"ALZHEIMERS DIS\",\n",
      "        \"Alzheimer Disease\",\n",
      "        \"ALZHEIMER DISEASE\",\n",
      "        \"Alzheimer disease\",\n",
      "        \"Alzheimer Dementia\",\n",
      "        \"Alzheimers disease\",\n",
      "        \"DEMENTIA ALZHEIMER\",\n",
      "        \"Alzheimer syndrome\",\n",
      "        \"alzheimers disease\",\n",
      "        \"Disease, Alzheimer\",\n",
      "        \"Alzheimer Syndrome\",\n",
      "        \"alzheimer diseases\",\n",
      "        \"Disease;Alzheimers\",\n",
      "        \"Alzheimers Disease\",\n",
      "        \"Alzheimer dementia\",\n",
      "        \"Alzheimer's Disease\",\n",
      "        \"Alzheimer's disease\",\n",
      "        \"Alzheimers Dementia\",\n",
      "        \"Alzheimers dementia\",\n",
      "        \"ALZHEIMER'S DISEASE\",\n",
      "        \"alzheimer's disease\",\n",
      "        \"Alzheimer Sclerosis\",\n",
      "        \"Alzheimer Dementias\",\n",
      "        \"Alzheimer sclerosis\",\n",
      "        \"Dementia, Alzheimer\",\n",
      "        \"alzheimers dementia\",\n",
      "        \"dementia alzheimers\",\n",
      "        \"sclerosis; Alzheimer\",\n",
      "        \"Disease, Alzheimer's\",\n",
      "        \"Alzheimer's dementia\",\n",
      "        \"Dementias, Alzheimer\",\n",
      "        \"Alzheimer; sclerosis\",\n",
      "        \"alzheimer's diseases\",\n",
      "        \"Sclerosis, Alzheimer\",\n",
      "        \"Alzheimer's Dementia\",\n",
      "        \"Alzheimer disease (AD)\",\n",
      "        \"Alzheimer-type dementia\",\n",
      "        \"Alzheimer Type Dementia\",\n",
      "        \"Alzheimer dementia (AD)\",\n",
      "        \"Dementia, Alzheimer Type\",\n",
      "        \"AD - Alzheimer's disease\",\n",
      "        \"Alzheimer's disease, NOS\",\n",
      "        \"Dementia Alzheimer's type\",\n",
      "        \"Alzheimer disease, familial\",\n",
      "        \"Dementia in Alzheimer's dis\",\n",
      "        \"Dementia of Alzheimers Type\",\n",
      "        \"Presenile Alzheimer Dementia\",\n",
      "        \"sporadic Alzheimer's disease\",\n",
      "        \"Alzheimer-type dementia (ADT)\",\n",
      "        \"DAT - Dementia Alzheimer type\",\n",
      "        \"Alzheimer-Type Dementia (ATD)\",\n",
      "        \"Dementia, Presenile Alzheimer\",\n",
      "        \"Alzheimer Dementia, Presenile\",\n",
      "        \"Alzheimer Type Dementia (ATD)\",\n",
      "        \"Alzheimer; dementia (etiology)\",\n",
      "        \"Alzheimer Type Senile Dementia\",\n",
      "        \"DEMENTIA OF THE ALZHEIMER TYPE\",\n",
      "        \"Alzheimer's disease (disorder)\",\n",
      "        \"Dementia, Alzheimer-Type (ATD)\",\n",
      "        \"dementia of the Alzheimer type\",\n",
      "        \"dementia; Alzheimer (etiology)\",\n",
      "        \"DAT - Dementia Alzheimer's type\",\n",
      "        \"Senile Dementia, Alzheimer Type\",\n",
      "        \"Alzheimer's disease (diagnosis)\",\n",
      "        \"Dementia in Alzheimer's disease\",\n",
      "        \"Alzheimer's Disease Pathway KEGG\",\n",
      "        \"Dementia of the Alzheimer's type\",\n",
      "        \"Alzheimer's disease, unspecified\",\n",
      "        \"[X]Dementia in Alzheimer's disease\",\n",
      "        \"Progression of Alzheimer's disease\",\n",
      "        \"dementia; Alzheimer (manifestation)\",\n",
      "        \"Alzheimer; dementia (manifestation)\",\n",
      "        \"dementia of the Alzheimer type (DAT)\",\n",
      "        \"Dementia of the Alzheimer's type NOS\",\n",
      "        \"senile dementia of the Alzheimer type\",\n",
      "        \"SENILE DEMENTIA OF THE ALZHEIMER TYPE\",\n",
      "        \"Dementia in Alzheimer's disease (disorder)\",\n",
      "        \"senile dementia of the Alzheimer type (SDAT)\",\n",
      "        \"Late-onset form of familial Alzheimer disease\",\n",
      "        \"[X]Dementia in Alzheimer's disease (disorder)\",\n",
      "        \"Dementia in Alzheimer's disease, unspecified (disorder)\",\n",
      "        \"AD\",\n",
      "        \"DAT\",\n",
      "        \"SDAT\",\n",
      "        \"dats\",\n",
      "        \"senile dementia\",\n",
      "        \"Senile Dementia\",\n",
      "        \"Dementia, Senile\",\n",
      "        \"Dementia, Presenile\",\n",
      "        \"simple senile dementia\",\n",
      "        \"Primary Senile Degenerative Dementia\",\n",
      "        \"Dementia, Primary Senile Degenerative\"\n",
      "    ],\n",
      "    \"MESH:D023582\": [\n",
      "        \"Alzheimer Vaccines\"\n",
      "    ],\n",
      "    \"MONDO:0011743\": [\n",
      "        \"ALZHEIMER DISEASE 4\",\n",
      "        \"Alzheimer disease 4\",\n",
      "        \"Alzheimer's disease 4\",\n",
      "        \"Alzheimer disease type 4\",\n",
      "        \"Alzheimer's disease type 4\",\n",
      "        \"Alzheimer disease, familial4\",\n",
      "        \"Alzheimer disease, familial, 4\",\n",
      "        \"Alzheimer Disease, Familial, 4\",\n",
      "        \"ALZHEIMER DISEASE, FAMILIAL, 4\",\n",
      "        \"Alzheimer disease familial type 4\",\n",
      "        \"familial Alzheimer disease, type 4\",\n",
      "        \"Familial Alzheimer Disease, Type 4\",\n",
      "        \"Alzheimer disease, familial, type 4\",\n",
      "        \"Familial Alzheimer's Disease, Type 4\",\n",
      "        \"familial Alzheimer's disease, type 4\",\n",
      "        \"Ad4\",\n",
      "        \"AD4\"\n",
      "    ],\n",
      "    \"MONDO:0011561\": [\n",
      "        \"Alzheimer Disease 6\",\n",
      "        \"Alzheimer disease 6\",\n",
      "        \"Alzheimer's disease 6\",\n",
      "        \"Alzheimer disease type 6\",\n",
      "        \"Alzheimer's disease type 6\",\n",
      "        \"Alzheimer disease 6, late onset\",\n",
      "        \"Alzheimer disease 6, late-onset\",\n",
      "        \"AD6\",\n",
      "        \"AD6\",\n",
      "        \"plasma Beta-amyloid-42 level quantitative trait locus\"\n",
      "    ],\n",
      "    \"MONDO:0007088\": [\n",
      "        \"Alzheimer disease 1\",\n",
      "        \"Alzheimer disease 1\",\n",
      "        \"Alzheimer disease; AD\",\n",
      "        \"Alzheimer disease type 1\",\n",
      "        \"Alzheimer disease, familial, 1\",\n",
      "        \"Alzheimer disease, protection against\",\n",
      "        \"early-onset familial form of Alzheimer disease\",\n",
      "        \"Early-onset familial form of Alzheimer disease\",\n",
      "        \"Alzheimer disease, early-onset, with cerebral amyloid angiopathy\",\n",
      "        \"AD1\",\n",
      "        \"presenile and senile dementia\"\n",
      "    ],\n",
      "    \"MONDO:0011647\": [\n",
      "        \"Alzheimer disease 7\",\n",
      "        \"ALZHEIMER DISEASE 7\",\n",
      "        \"Alzheimer Disease 7\",\n",
      "        \"Alzheimer's disease 7\",\n",
      "        \"Alzheimer disease type 7\",\n",
      "        \"Alzheimer's disease type 7\",\n",
      "        \"Alzheimer disease, familial 7\",\n",
      "        \"ALZHEIMER DISEASE, FAMILIAL, 7\",\n",
      "        \"Alzheimer disease, familial, 7\",\n",
      "        \"Alzheimer Disease, Familial, 7\",\n",
      "        \"AD7\",\n",
      "        \"Ad7\"\n",
      "    ],\n",
      "    \"MONDO:0011777\": [\n",
      "        \"Alzheimer disease 8\",\n",
      "        \"ALZHEIMER DISEASE 8\",\n",
      "        \"Alzheimer Disease 8\",\n",
      "        \"Alzheimer's disease 8\",\n",
      "        \"Alzheimer disease type 8\",\n",
      "        \"Alzheimer's disease type 8\",\n",
      "        \"Alzheimer disease, familial 8\",\n",
      "        \"ALZHEIMER DISEASE, FAMILIAL, 8\",\n",
      "        \"Alzheimer disease, familial, 8\",\n",
      "        \"Alzheimer Disease, Familial, 8\",\n",
      "        \"AD8\",\n",
      "        \"Ad8\"\n",
      "    ],\n",
      "    \"MONDO:0011913\": [\n",
      "        \"Alzheimer disease 3\",\n",
      "        \"Alzheimer's disease 3\",\n",
      "        \"Alzheimer disease 3; AD\",\n",
      "        \"Alzheimer disease type 3\",\n",
      "        \"Alzheimer's disease type 3\",\n",
      "        \"Alzheimer disease familial 3\",\n",
      "        \"Alzheimer disease, familial, 3\",\n",
      "        \"Alzheimer disease 3, early onset\",\n",
      "        \"Alzheimer disease 3, early-onset\",\n",
      "        \"familial Alzheimer disease, type 3\",\n",
      "        \"Familial Alzheimer Disease, Type 3\",\n",
      "        \"Alzheimer disease, familial, type 3\",\n",
      "        \"familial Alzheimer's disease, type 3\",\n",
      "        \"Familial Alzheimer's Disease, Type 3\",\n",
      "        \"Alzheimer disease early onset type 3\",\n",
      "        \"PSEN1 early-onset autosomal dominant Alzheimer disease\",\n",
      "        \"Alzheimer disease, familial, 3, with spastic paraparesis and apraxia\",\n",
      "        \"Alzheimer disease, familial, 3, with spastic paraparesis and unusual plaques\",\n",
      "        \"early-onset autosomal dominant Alzheimer disease caused by mutation in PSEN1\",\n",
      "        \"AD3\"\n",
      "    ],\n",
      "    \"MONDO:0007089\": [\n",
      "        \"Alzheimer Disease 2\",\n",
      "        \"ALZHEIMER DISEASE 2\",\n",
      "        \"Alzheimer disease 2\",\n",
      "        \"Alzheimer disease-2\",\n",
      "        \"Alzheimer's disease 2\",\n",
      "        \"Alzheimer disease 2; AD2\",\n",
      "        \"Alzheimer disease type 2\",\n",
      "        \"Alzheimer's disease type 2\",\n",
      "        \"late onset Alzheimer disease\",\n",
      "        \"Fam Alzheimer dis of late onse\",\n",
      "        \"ALZHEIMER DISEASE 2, LATE-ONSET\",\n",
      "        \"Alzheimer disease 2, late-onset\",\n",
      "        \"Alzheimer disease 2, late onset\",\n",
      "        \"Alzheimer Disease 2, Late-Onset\",\n",
      "        \"late onset familial Alzheimer disease\",\n",
      "        \"Late onset familial Alzheimer disease\",\n",
      "        \"Alzheimer Disease Associated With Apoe4\",\n",
      "        \"ALZHEIMER DISEASE ASSOCIATED WITH APOE4\",\n",
      "        \"Alzheimer disease associated with Apoe4\",\n",
      "        \"Alzheimer disease associated with APOE4\",\n",
      "        \"Familial Alzheimer disease of late onset\",\n",
      "        \"Alzheimer disease associated with APOE E4\",\n",
      "        \"Alzheimer disease associated with APOE E4\",\n",
      "        \"Familial Alzheimer's disease of late onset\",\n",
      "        \"Late-onset form of familial Alzheimer disease\",\n",
      "        \"Familial Alzheimer's disease of late onset (disorder)\",\n",
      "        \"AD2\",\n",
      "        \"LOFAD\"\n",
      "    ],\n",
      "    \"MONDO:0011194\": [\n",
      "        \"Alzheimer Disease 5\",\n",
      "        \"Alzheimer disease 5\",\n",
      "        \"ALZHEIMER DISEASE 5\",\n",
      "        \"Alzheimer's disease 5\",\n",
      "        \"Alzheimer disease type 5\",\n",
      "        \"Alzheimer's disease type 5\",\n",
      "        \"Alzheimer disease, familial 5\",\n",
      "        \"Alzheimer Disease, Familial, 5\",\n",
      "        \"ALZHEIMER DISEASE, FAMILIAL, 5\",\n",
      "        \"Alzheimer disease, familial, 5\",\n",
      "        \"AD5\",\n",
      "        \"Ad5\"\n",
      "    ]\n",
      "}\n"
     ]
    }
   ],
   "source": [
    "print(json.dumps(results.json(),indent=4))"
   ]
  },
  {
   "cell_type": "markdown",
   "id": "satellite-crazy",
   "metadata": {
    "pycharm": {
     "name": "#%% md\n"
    }
   },
   "source": [
    "The node normalizer (https://nodenormalization-sri.renci.org/docs) takes CURIES and returns all other CURIES that are synonymous with the input. It also returns labels for the node, the biolink classes of the node, and often the information content of the node."
   ]
  },
  {
   "cell_type": "code",
   "execution_count": 21,
   "id": "south-preservation",
   "metadata": {
    "pycharm": {
     "name": "#%%\n"
    }
   },
   "outputs": [],
   "source": [
    "nn_query = {\n",
    "  \"curies\": [\n",
    "    \"MONDO:0004975\",\n",
    "  ],\n",
    "  \"conflate\": True\n",
    "}\n",
    "results = requests.post('https://nodenormalization-sri.renci.org/get_normalized_nodes',json=nn_query)"
   ]
  },
  {
   "cell_type": "code",
   "execution_count": 22,
   "id": "absent-array",
   "metadata": {
    "pycharm": {
     "name": "#%%\n"
    }
   },
   "outputs": [
    {
     "name": "stdout",
     "output_type": "stream",
     "text": [
      "{\n",
      "    \"MONDO:0004975\": {\n",
      "        \"id\": {\n",
      "            \"identifier\": \"MONDO:0004975\",\n",
      "            \"label\": \"Alzheimer disease\"\n",
      "        },\n",
      "        \"equivalent_identifiers\": [\n",
      "            {\n",
      "                \"identifier\": \"MONDO:0004975\",\n",
      "                \"label\": \"Alzheimer disease\"\n",
      "            },\n",
      "            {\n",
      "                \"identifier\": \"DOID:10652\",\n",
      "                \"label\": \"Alzheimer's disease\"\n",
      "            },\n",
      "            {\n",
      "                \"identifier\": \"EFO:0000249\",\n",
      "                \"label\": \"Alzheimer's disease\"\n",
      "            },\n",
      "            {\n",
      "                \"identifier\": \"UMLS:C0002395\",\n",
      "                \"label\": \"Alzheimer's Disease\"\n",
      "            },\n",
      "            {\n",
      "                \"identifier\": \"UMLS:C0011265\",\n",
      "                \"label\": \"Presenile dementia\"\n",
      "            },\n",
      "            {\n",
      "                \"identifier\": \"UMLS:C0276496\",\n",
      "                \"label\": \"Familial Alzheimer Disease (FAD)\"\n",
      "            },\n",
      "            {\n",
      "                \"identifier\": \"UMLS:C0494463\",\n",
      "                \"label\": \"Alzheimer Disease, Late Onset\"\n",
      "            },\n",
      "            {\n",
      "                \"identifier\": \"UMLS:C0546126\",\n",
      "                \"label\": \"Acute Confusional Senile Dementia\"\n",
      "            },\n",
      "            {\n",
      "                \"identifier\": \"UMLS:C0750900\",\n",
      "                \"label\": \"Alzheimer's Disease, Focal Onset\"\n",
      "            },\n",
      "            {\n",
      "                \"identifier\": \"UMLS:C0750901\",\n",
      "                \"label\": \"Alzheimer Disease, Early Onset\"\n",
      "            },\n",
      "            {\n",
      "                \"identifier\": \"MESH:D000544\",\n",
      "                \"label\": \"Alzheimer Disease\"\n",
      "            },\n",
      "            {\n",
      "                \"identifier\": \"MEDDRA:10001896\"\n",
      "            },\n",
      "            {\n",
      "                \"identifier\": \"MEDDRA:10012271\"\n",
      "            },\n",
      "            {\n",
      "                \"identifier\": \"MEDDRA:10012292\"\n",
      "            },\n",
      "            {\n",
      "                \"identifier\": \"MEDDRA:10012298\"\n",
      "            },\n",
      "            {\n",
      "                \"identifier\": \"MEDDRA:10036506\"\n",
      "            },\n",
      "            {\n",
      "                \"identifier\": \"MEDDRA:10036631\"\n",
      "            },\n",
      "            {\n",
      "                \"identifier\": \"NCIT:C2866\",\n",
      "                \"label\": \"Alzheimer's Disease\"\n",
      "            },\n",
      "            {\n",
      "                \"identifier\": \"NCIT:C34523\",\n",
      "                \"label\": \"Pre-Senile Dementia\"\n",
      "            },\n",
      "            {\n",
      "                \"identifier\": \"NCIT:C38778\",\n",
      "                \"label\": \"Alzheimer's Disease Pathway KEGG\"\n",
      "            },\n",
      "            {\n",
      "                \"identifier\": \"SNOMEDCT:12348006\"\n",
      "            },\n",
      "            {\n",
      "                \"identifier\": \"SNOMEDCT:142811000119104\"\n",
      "            },\n",
      "            {\n",
      "                \"identifier\": \"SNOMEDCT:230267005\"\n",
      "            },\n",
      "            {\n",
      "                \"identifier\": \"SNOMEDCT:26929004\"\n",
      "            },\n",
      "            {\n",
      "                \"identifier\": \"SNOMEDCT:416780008\"\n",
      "            },\n",
      "            {\n",
      "                \"identifier\": \"SNOMEDCT:416975007\"\n",
      "            },\n",
      "            {\n",
      "                \"identifier\": \"ICD10:G30\"\n",
      "            },\n",
      "            {\n",
      "                \"identifier\": \"ICD9:331.0\"\n",
      "            },\n",
      "            {\n",
      "                \"identifier\": \"KEGG.DISEASE:05010\"\n",
      "            },\n",
      "            {\n",
      "                \"identifier\": \"HP:0002511\",\n",
      "                \"label\": \"Alzheimer disease\"\n",
      "            }\n",
      "        ],\n",
      "        \"type\": [\n",
      "            \"biolink:Disease\",\n",
      "            \"biolink:DiseaseOrPhenotypicFeature\",\n",
      "            \"biolink:BiologicalEntity\",\n",
      "            \"biolink:NamedThing\",\n",
      "            \"biolink:Entity\",\n",
      "            \"biolink:ThingWithTaxon\"\n",
      "        ],\n",
      "        \"information_content\": 100.0\n",
      "    }\n",
      "}\n"
     ]
    }
   ],
   "source": [
    "print(json.dumps(results.json(),indent=4))"
   ]
  },
  {
   "cell_type": "code",
   "execution_count": null,
   "id": "lasting-victoria",
   "metadata": {
    "pycharm": {
     "name": "#%%\n"
    }
   },
   "outputs": [],
   "source": []
  }
 ],
 "metadata": {
  "kernelspec": {
   "display_name": "Python 3",
   "language": "python",
   "name": "python3"
  },
  "language_info": {
   "codemirror_mode": {
    "name": "ipython",
    "version": 3
   },
   "file_extension": ".py",
   "mimetype": "text/x-python",
   "name": "python",
   "nbconvert_exporter": "python",
   "pygments_lexer": "ipython3",
   "version": "3.9.1"
  }
 },
 "nbformat": 4,
 "nbformat_minor": 5
}
